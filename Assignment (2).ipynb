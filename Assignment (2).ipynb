{
 "cells": [
  {
   "cell_type": "code",
   "execution_count": 1,
   "id": "8882c4cf",
   "metadata": {},
   "outputs": [],
   "source": [
    "from pyspark.sql import SparkSession"
   ]
  },
  {
   "cell_type": "code",
   "execution_count": 2,
   "id": "3a766eca",
   "metadata": {},
   "outputs": [],
   "source": [
    "from sqlalchemy import create_engine\n",
    "import pymysql\n",
    "import pandas as pd\n",
    "\n",
    "appName = \"PySpark MySQL Example - via mysql.connector\"\n",
    "master = \"local\"\n",
    "\n",
    "spark = SparkSession.builder.master(master).appName(appName).getOrCreate()"
   ]
  },
  {
   "cell_type": "code",
   "execution_count": 3,
   "id": "0ebe93ca",
   "metadata": {},
   "outputs": [],
   "source": [
    "hostname='localhost:3306'\n",
    "dbname=\"classicmodels_origin\"\n",
    "uname=\"root\"\n",
    "pwd=\"root\"\n",
    "\n",
    "\n",
    "\n",
    "# Create SQLAlchemy engine to connect to MySQL Database\n",
    "oltp_engine = create_engine(\"mysql+pymysql://{user}:{pw}@{host}/{db}\".format(host=hostname, db=dbname, user=uname, pw=pwd))"
   ]
  },
  {
   "cell_type": "code",
   "execution_count": 4,
   "id": "0c91bf75",
   "metadata": {},
   "outputs": [],
   "source": [
    "hostname='localhost:3306'\n",
    "dbname=\"starschema\"\n",
    "uname=\"root\"\n",
    "pwd=\"root\"\n",
    "\n",
    "\n",
    "\n",
    "# Create SQLAlchemy engine to connect to MySQL Database\n",
    "olap_engine = create_engine(\"mysql+pymysql://{user}:{pw}@{host}/{db}\".format(host=hostname, db=dbname, user=uname, pw=pwd))"
   ]
  },
  {
   "cell_type": "markdown",
   "id": "dbb5c46d",
   "metadata": {},
   "source": [
    "## Checking OLTP Dimension Table for products"
   ]
  },
  {
   "cell_type": "code",
   "execution_count": 5,
   "id": "20a3bbde",
   "metadata": {},
   "outputs": [],
   "source": [
    "from sqlalchemy.sql import text\n"
   ]
  },
  {
   "cell_type": "code",
   "execution_count": 6,
   "id": "54af32c2",
   "metadata": {},
   "outputs": [
    {
     "name": "stderr",
     "output_type": "stream",
     "text": [
      "C:\\Users\\MUDASSIR RAZA\\AppData\\Roaming\\Python\\Python310\\site-packages\\pyspark\\sql\\pandas\\conversion.py:474: FutureWarning: iteritems is deprecated and will be removed in a future version. Use .items instead.\n",
      "  for column, series in pdf.iteritems():\n",
      "C:\\Users\\MUDASSIR RAZA\\AppData\\Roaming\\Python\\Python310\\site-packages\\pyspark\\sql\\pandas\\conversion.py:486: FutureWarning: iteritems is deprecated and will be removed in a future version. Use .items instead.\n",
      "  for column, series in pdf.iteritems():\n"
     ]
    },
    {
     "name": "stdout",
     "output_type": "stream",
     "text": [
      "+-----------+--------------------+----------------+------------+--------------------+--------------------+---------------+--------------------+--------------------+-------------------+-------------------+\n",
      "|productCode|         productName|     productLine|productScale|       productVendor|  productDescription|quantityInStock|            buyPrice|                MSRP|         created_at|         updated_at|\n",
      "+-----------+--------------------+----------------+------------+--------------------+--------------------+---------------+--------------------+--------------------+-------------------+-------------------+\n",
      "|   S10_1678|1969 Harley David...|     Motorcycles|        1:10|     Min Lin Diecast|This replica feat...|           7933|48.81000000000000...|95.70000000000000...|2023-03-22 20:36:25|2023-03-22 20:36:25|\n",
      "|   S10_1949|1952 Alpine Renau...|    Classic Cars|        1:10|Classic Metal Cre...|Turnable front wh...|           7305|98.58000000000000...|214.3000000000000...|2023-03-22 20:36:25|2023-03-22 20:36:25|\n",
      "|   S10_2016|1996 Moto Guzzi 1...|     Motorcycles|        1:10|Highway 66 Mini C...|Official Moto Guz...|           6625|68.99000000000000...|118.9400000000000...|2023-03-22 20:36:25|2023-03-22 20:36:25|\n",
      "|   S10_4698|2003 Harley-David...|     Motorcycles|        1:10|   Red Start Diecast|Model features, o...|           5582|91.02000000000000...|193.6600000000000...|2023-03-22 20:36:25|2023-03-22 20:36:25|\n",
      "|   S10_4757|1972 Alfa Romeo G...|    Classic Cars|        1:10|Motor City Art Cl...|Features include:...|           3252|85.68000000000000...|136.0000000000000...|2023-03-22 20:36:25|2023-03-22 20:36:25|\n",
      "|   S10_4962|1962 LanciaA Delt...|    Classic Cars|        1:10| Second Gear Diecast|Features include:...|           6791|103.4200000000000...|147.7400000000000...|2023-03-22 20:36:25|2023-03-22 20:36:25|\n",
      "|   S12_1099|   1968 Ford Mustang|    Classic Cars|        1:12|Autoart Studio De...|Hood, doors and t...|             68|95.34000000000000...|194.5700000000000...|2023-03-22 20:36:25|2023-03-22 20:36:25|\n",
      "|   S12_1108|   2001 Ferrari Enzo|    Classic Cars|        1:12| Second Gear Diecast|Turnable front wh...|           3619|95.59000000000000...|207.8000000000000...|2023-03-22 20:36:25|2023-03-22 20:36:25|\n",
      "|   S12_1666|      1958 Setra Bus|Trucks and Buses|        1:12|Welly Diecast Pro...|Model features 30...|           1579|77.90000000000000...|136.6700000000000...|2023-03-22 20:36:25|2023-03-22 20:36:25|\n",
      "|   S12_2823|    2002 Suzuki XREO|     Motorcycles|        1:12|Unimax Art Galleries|Official logos an...|           9997|66.27000000000000...|150.6200000000000...|2023-03-22 20:36:25|2023-03-22 20:36:25|\n",
      "+-----------+--------------------+----------------+------------+--------------------+--------------------+---------------+--------------------+--------------------+-------------------+-------------------+\n",
      "\n"
     ]
    }
   ],
   "source": [
    "sql = \"SELECT * FROM  products limit 10\"\n",
    "with oltp_engine.connect().execution_options(autocommit=True) as conn:\n",
    "    query = conn.execute(text(sql))         \n",
    "pdf = pd.DataFrame(query.fetchall())\n",
    "product_oltp = spark.createDataFrame(pdf)\n",
    "product_oltp.show()\n"
   ]
  },
  {
   "cell_type": "markdown",
   "id": "3352341a",
   "metadata": {},
   "source": [
    "## Checking OLAP Dimension Table for products"
   ]
  },
  {
   "cell_type": "code",
   "execution_count": 7,
   "id": "ccd66efc",
   "metadata": {},
   "outputs": [],
   "source": [
    "sql = \"SELECT * FROM  products limit 10\"\n",
    "with olap_engine.connect().execution_options(autocommit=True) as conn:\n",
    "    query = conn.execute(text(sql))         \n",
    "pdf = pd.DataFrame(query.fetchall())"
   ]
  },
  {
   "cell_type": "code",
   "execution_count": 8,
   "id": "4c077671",
   "metadata": {},
   "outputs": [
    {
     "data": {
      "text/html": [
       "<div>\n",
       "<style scoped>\n",
       "    .dataframe tbody tr th:only-of-type {\n",
       "        vertical-align: middle;\n",
       "    }\n",
       "\n",
       "    .dataframe tbody tr th {\n",
       "        vertical-align: top;\n",
       "    }\n",
       "\n",
       "    .dataframe thead th {\n",
       "        text-align: right;\n",
       "    }\n",
       "</style>\n",
       "<table border=\"1\" class=\"dataframe\">\n",
       "  <thead>\n",
       "    <tr style=\"text-align: right;\">\n",
       "      <th></th>\n",
       "      <th>productCode</th>\n",
       "      <th>productName</th>\n",
       "      <th>productLine</th>\n",
       "      <th>productScale</th>\n",
       "      <th>productVendor</th>\n",
       "      <th>productDescription</th>\n",
       "      <th>quantityInStock</th>\n",
       "      <th>buyPrice</th>\n",
       "      <th>MSRP</th>\n",
       "      <th>textDescription</th>\n",
       "      <th>product_dimension_key</th>\n",
       "      <th>affected_date</th>\n",
       "      <th>expiry_date</th>\n",
       "      <th>iscurrent</th>\n",
       "    </tr>\n",
       "  </thead>\n",
       "  <tbody>\n",
       "    <tr>\n",
       "      <th>0</th>\n",
       "      <td>S10_1949</td>\n",
       "      <td>1952 Alpine Renault 1300</td>\n",
       "      <td>Classic Cars</td>\n",
       "      <td>1:10</td>\n",
       "      <td>Classic Metal Creations</td>\n",
       "      <td>Turnable front wheels; steering function; deta...</td>\n",
       "      <td>7305</td>\n",
       "      <td>98.58</td>\n",
       "      <td>214.30</td>\n",
       "      <td>Attention car enthusiasts: Make your wildest c...</td>\n",
       "      <td>1</td>\n",
       "      <td>2030-12-31 15:04:58</td>\n",
       "      <td>2031-12-31 15:04:58</td>\n",
       "      <td>1</td>\n",
       "    </tr>\n",
       "    <tr>\n",
       "      <th>1</th>\n",
       "      <td>S10_4757</td>\n",
       "      <td>1972 Alfa Romeo GTA</td>\n",
       "      <td>Classic Cars</td>\n",
       "      <td>1:10</td>\n",
       "      <td>Motor City Art Classics</td>\n",
       "      <td>Features include: Turnable front wheels; steer...</td>\n",
       "      <td>3252</td>\n",
       "      <td>85.68</td>\n",
       "      <td>136.00</td>\n",
       "      <td>Attention car enthusiasts: Make your wildest c...</td>\n",
       "      <td>2</td>\n",
       "      <td>2030-12-31 15:04:58</td>\n",
       "      <td>2031-12-31 15:04:58</td>\n",
       "      <td>1</td>\n",
       "    </tr>\n",
       "    <tr>\n",
       "      <th>2</th>\n",
       "      <td>S10_4962</td>\n",
       "      <td>1962 LanciaA Delta 16V</td>\n",
       "      <td>Classic Cars</td>\n",
       "      <td>1:10</td>\n",
       "      <td>Second Gear Diecast</td>\n",
       "      <td>Features include: Turnable front wheels; steer...</td>\n",
       "      <td>6791</td>\n",
       "      <td>103.42</td>\n",
       "      <td>147.74</td>\n",
       "      <td>Attention car enthusiasts: Make your wildest c...</td>\n",
       "      <td>3</td>\n",
       "      <td>2030-12-31 15:04:58</td>\n",
       "      <td>2031-12-31 15:04:58</td>\n",
       "      <td>1</td>\n",
       "    </tr>\n",
       "    <tr>\n",
       "      <th>3</th>\n",
       "      <td>S12_1099</td>\n",
       "      <td>1968 Ford Mustang</td>\n",
       "      <td>Classic Cars</td>\n",
       "      <td>1:12</td>\n",
       "      <td>Autoart Studio Design</td>\n",
       "      <td>Hood, doors and trunk all open to reveal highl...</td>\n",
       "      <td>68</td>\n",
       "      <td>95.34</td>\n",
       "      <td>194.57</td>\n",
       "      <td>Attention car enthusiasts: Make your wildest c...</td>\n",
       "      <td>4</td>\n",
       "      <td>2030-12-31 15:04:58</td>\n",
       "      <td>2031-12-31 15:04:58</td>\n",
       "      <td>1</td>\n",
       "    </tr>\n",
       "    <tr>\n",
       "      <th>4</th>\n",
       "      <td>S12_1108</td>\n",
       "      <td>2001 Ferrari Enzo</td>\n",
       "      <td>Classic Cars</td>\n",
       "      <td>1:12</td>\n",
       "      <td>Second Gear Diecast</td>\n",
       "      <td>Turnable front wheels; steering function; deta...</td>\n",
       "      <td>3619</td>\n",
       "      <td>95.59</td>\n",
       "      <td>207.80</td>\n",
       "      <td>Attention car enthusiasts: Make your wildest c...</td>\n",
       "      <td>5</td>\n",
       "      <td>2030-12-31 15:04:58</td>\n",
       "      <td>2031-12-31 15:04:58</td>\n",
       "      <td>1</td>\n",
       "    </tr>\n",
       "    <tr>\n",
       "      <th>5</th>\n",
       "      <td>S12_3148</td>\n",
       "      <td>1969 Corvair Monza</td>\n",
       "      <td>Classic Cars</td>\n",
       "      <td>1:18</td>\n",
       "      <td>Welly Diecast Productions</td>\n",
       "      <td>1:18 scale die-cast about 10\" long doors open,...</td>\n",
       "      <td>6906</td>\n",
       "      <td>89.14</td>\n",
       "      <td>151.08</td>\n",
       "      <td>Attention car enthusiasts: Make your wildest c...</td>\n",
       "      <td>6</td>\n",
       "      <td>2030-12-31 15:04:58</td>\n",
       "      <td>2031-12-31 15:04:58</td>\n",
       "      <td>1</td>\n",
       "    </tr>\n",
       "    <tr>\n",
       "      <th>6</th>\n",
       "      <td>S12_3380</td>\n",
       "      <td>1968 Dodge Charger</td>\n",
       "      <td>Classic Cars</td>\n",
       "      <td>1:12</td>\n",
       "      <td>Welly Diecast Productions</td>\n",
       "      <td>1:12 scale model of a 1968 Dodge Charger. Hood...</td>\n",
       "      <td>9123</td>\n",
       "      <td>75.16</td>\n",
       "      <td>117.44</td>\n",
       "      <td>Attention car enthusiasts: Make your wildest c...</td>\n",
       "      <td>7</td>\n",
       "      <td>2030-12-31 15:04:58</td>\n",
       "      <td>2031-12-31 15:04:58</td>\n",
       "      <td>1</td>\n",
       "    </tr>\n",
       "    <tr>\n",
       "      <th>7</th>\n",
       "      <td>S18_4027</td>\n",
       "      <td>1970 Triumph Spitfire</td>\n",
       "      <td>Classic Cars</td>\n",
       "      <td>1:18</td>\n",
       "      <td>Min Lin Diecast</td>\n",
       "      <td>Features include opening and closing doors. Co...</td>\n",
       "      <td>5545</td>\n",
       "      <td>91.92</td>\n",
       "      <td>143.62</td>\n",
       "      <td>Attention car enthusiasts: Make your wildest c...</td>\n",
       "      <td>8</td>\n",
       "      <td>2030-12-31 15:04:58</td>\n",
       "      <td>2031-12-31 15:04:58</td>\n",
       "      <td>1</td>\n",
       "    </tr>\n",
       "    <tr>\n",
       "      <th>8</th>\n",
       "      <td>S18_4721</td>\n",
       "      <td>1957 Corvette Convertible</td>\n",
       "      <td>Classic Cars</td>\n",
       "      <td>1:18</td>\n",
       "      <td>Classic Metal Creations</td>\n",
       "      <td>1957 die cast Corvette Convertible in Roman Re...</td>\n",
       "      <td>1249</td>\n",
       "      <td>69.93</td>\n",
       "      <td>148.80</td>\n",
       "      <td>Attention car enthusiasts: Make your wildest c...</td>\n",
       "      <td>9</td>\n",
       "      <td>2030-12-31 15:04:58</td>\n",
       "      <td>2031-12-31 15:04:58</td>\n",
       "      <td>1</td>\n",
       "    </tr>\n",
       "    <tr>\n",
       "      <th>9</th>\n",
       "      <td>S18_4933</td>\n",
       "      <td>1957 Ford Thunderbird</td>\n",
       "      <td>Classic Cars</td>\n",
       "      <td>1:18</td>\n",
       "      <td>Studio M Art Models</td>\n",
       "      <td>This 1:18 scale precision die-cast replica, wi...</td>\n",
       "      <td>3209</td>\n",
       "      <td>34.21</td>\n",
       "      <td>71.27</td>\n",
       "      <td>Attention car enthusiasts: Make your wildest c...</td>\n",
       "      <td>10</td>\n",
       "      <td>2030-12-31 15:04:58</td>\n",
       "      <td>2031-12-31 15:04:58</td>\n",
       "      <td>1</td>\n",
       "    </tr>\n",
       "  </tbody>\n",
       "</table>\n",
       "</div>"
      ],
      "text/plain": [
       "  productCode                productName   productLine productScale  \\\n",
       "0    S10_1949   1952 Alpine Renault 1300  Classic Cars         1:10   \n",
       "1    S10_4757        1972 Alfa Romeo GTA  Classic Cars         1:10   \n",
       "2    S10_4962     1962 LanciaA Delta 16V  Classic Cars         1:10   \n",
       "3    S12_1099          1968 Ford Mustang  Classic Cars         1:12   \n",
       "4    S12_1108          2001 Ferrari Enzo  Classic Cars         1:12   \n",
       "5    S12_3148         1969 Corvair Monza  Classic Cars         1:18   \n",
       "6    S12_3380         1968 Dodge Charger  Classic Cars         1:12   \n",
       "7    S18_4027      1970 Triumph Spitfire  Classic Cars         1:18   \n",
       "8    S18_4721  1957 Corvette Convertible  Classic Cars         1:18   \n",
       "9    S18_4933      1957 Ford Thunderbird  Classic Cars         1:18   \n",
       "\n",
       "               productVendor  \\\n",
       "0    Classic Metal Creations   \n",
       "1    Motor City Art Classics   \n",
       "2        Second Gear Diecast   \n",
       "3      Autoart Studio Design   \n",
       "4        Second Gear Diecast   \n",
       "5  Welly Diecast Productions   \n",
       "6  Welly Diecast Productions   \n",
       "7            Min Lin Diecast   \n",
       "8    Classic Metal Creations   \n",
       "9        Studio M Art Models   \n",
       "\n",
       "                                  productDescription  quantityInStock  \\\n",
       "0  Turnable front wheels; steering function; deta...             7305   \n",
       "1  Features include: Turnable front wheels; steer...             3252   \n",
       "2  Features include: Turnable front wheels; steer...             6791   \n",
       "3  Hood, doors and trunk all open to reveal highl...               68   \n",
       "4  Turnable front wheels; steering function; deta...             3619   \n",
       "5  1:18 scale die-cast about 10\" long doors open,...             6906   \n",
       "6  1:12 scale model of a 1968 Dodge Charger. Hood...             9123   \n",
       "7  Features include opening and closing doors. Co...             5545   \n",
       "8  1957 die cast Corvette Convertible in Roman Re...             1249   \n",
       "9  This 1:18 scale precision die-cast replica, wi...             3209   \n",
       "\n",
       "  buyPrice    MSRP                                    textDescription  \\\n",
       "0    98.58  214.30  Attention car enthusiasts: Make your wildest c...   \n",
       "1    85.68  136.00  Attention car enthusiasts: Make your wildest c...   \n",
       "2   103.42  147.74  Attention car enthusiasts: Make your wildest c...   \n",
       "3    95.34  194.57  Attention car enthusiasts: Make your wildest c...   \n",
       "4    95.59  207.80  Attention car enthusiasts: Make your wildest c...   \n",
       "5    89.14  151.08  Attention car enthusiasts: Make your wildest c...   \n",
       "6    75.16  117.44  Attention car enthusiasts: Make your wildest c...   \n",
       "7    91.92  143.62  Attention car enthusiasts: Make your wildest c...   \n",
       "8    69.93  148.80  Attention car enthusiasts: Make your wildest c...   \n",
       "9    34.21   71.27  Attention car enthusiasts: Make your wildest c...   \n",
       "\n",
       "   product_dimension_key       affected_date         expiry_date  iscurrent  \n",
       "0                      1 2030-12-31 15:04:58 2031-12-31 15:04:58          1  \n",
       "1                      2 2030-12-31 15:04:58 2031-12-31 15:04:58          1  \n",
       "2                      3 2030-12-31 15:04:58 2031-12-31 15:04:58          1  \n",
       "3                      4 2030-12-31 15:04:58 2031-12-31 15:04:58          1  \n",
       "4                      5 2030-12-31 15:04:58 2031-12-31 15:04:58          1  \n",
       "5                      6 2030-12-31 15:04:58 2031-12-31 15:04:58          1  \n",
       "6                      7 2030-12-31 15:04:58 2031-12-31 15:04:58          1  \n",
       "7                      8 2030-12-31 15:04:58 2031-12-31 15:04:58          1  \n",
       "8                      9 2030-12-31 15:04:58 2031-12-31 15:04:58          1  \n",
       "9                     10 2030-12-31 15:04:58 2031-12-31 15:04:58          1  "
      ]
     },
     "execution_count": 8,
     "metadata": {},
     "output_type": "execute_result"
    }
   ],
   "source": [
    "type(pdf)\n",
    "pdf\n",
    "\n"
   ]
  },
  {
   "cell_type": "code",
   "execution_count": 9,
   "id": "3e83c703",
   "metadata": {},
   "outputs": [
    {
     "name": "stderr",
     "output_type": "stream",
     "text": [
      "C:\\Users\\MUDASSIR RAZA\\AppData\\Roaming\\Python\\Python310\\site-packages\\pyspark\\sql\\pandas\\conversion.py:474: FutureWarning: iteritems is deprecated and will be removed in a future version. Use .items instead.\n",
      "  for column, series in pdf.iteritems():\n",
      "C:\\Users\\MUDASSIR RAZA\\AppData\\Roaming\\Python\\Python310\\site-packages\\pyspark\\sql\\pandas\\conversion.py:486: FutureWarning: iteritems is deprecated and will be removed in a future version. Use .items instead.\n",
      "  for column, series in pdf.iteritems():\n"
     ]
    },
    {
     "name": "stdout",
     "output_type": "stream",
     "text": [
      "+-----------+--------------------+------------+------------+--------------------+--------------------+---------------+--------------------+--------------------+--------------------+---------------------+-------------------+-------------------+---------+\n",
      "|productCode|         productName| productLine|productScale|       productVendor|  productDescription|quantityInStock|            buyPrice|                MSRP|     textDescription|product_dimension_key|      affected_date|        expiry_date|iscurrent|\n",
      "+-----------+--------------------+------------+------------+--------------------+--------------------+---------------+--------------------+--------------------+--------------------+---------------------+-------------------+-------------------+---------+\n",
      "|   S10_1949|1952 Alpine Renau...|Classic Cars|        1:10|Classic Metal Cre...|Turnable front wh...|           7305|98.58000000000000...|214.3000000000000...|Attention car ent...|                    1|2030-12-31 15:04:58|2031-12-31 15:04:58|        1|\n",
      "|   S10_4757| 1972 Alfa Romeo GTA|Classic Cars|        1:10|Motor City Art Cl...|Features include:...|           3252|85.68000000000000...|136.0000000000000...|Attention car ent...|                    2|2030-12-31 15:04:58|2031-12-31 15:04:58|        1|\n",
      "|   S10_4962|1962 LanciaA Delt...|Classic Cars|        1:10| Second Gear Diecast|Features include:...|           6791|103.4200000000000...|147.7400000000000...|Attention car ent...|                    3|2030-12-31 15:04:58|2031-12-31 15:04:58|        1|\n",
      "|   S12_1099|   1968 Ford Mustang|Classic Cars|        1:12|Autoart Studio De...|Hood, doors and t...|             68|95.34000000000000...|194.5700000000000...|Attention car ent...|                    4|2030-12-31 15:04:58|2031-12-31 15:04:58|        1|\n",
      "|   S12_1108|   2001 Ferrari Enzo|Classic Cars|        1:12| Second Gear Diecast|Turnable front wh...|           3619|95.59000000000000...|207.8000000000000...|Attention car ent...|                    5|2030-12-31 15:04:58|2031-12-31 15:04:58|        1|\n",
      "|   S12_3148|  1969 Corvair Monza|Classic Cars|        1:18|Welly Diecast Pro...|1:18 scale die-ca...|           6906|89.14000000000000...|151.0800000000000...|Attention car ent...|                    6|2030-12-31 15:04:58|2031-12-31 15:04:58|        1|\n",
      "|   S12_3380|  1968 Dodge Charger|Classic Cars|        1:12|Welly Diecast Pro...|1:12 scale model ...|           9123|75.16000000000000...|117.4400000000000...|Attention car ent...|                    7|2030-12-31 15:04:58|2031-12-31 15:04:58|        1|\n",
      "|   S18_4027|1970 Triumph Spit...|Classic Cars|        1:18|     Min Lin Diecast|Features include ...|           5545|91.92000000000000...|143.6200000000000...|Attention car ent...|                    8|2030-12-31 15:04:58|2031-12-31 15:04:58|        1|\n",
      "|   S18_4721|1957 Corvette Con...|Classic Cars|        1:18|Classic Metal Cre...|1957 die cast Cor...|           1249|69.93000000000000...|148.8000000000000...|Attention car ent...|                    9|2030-12-31 15:04:58|2031-12-31 15:04:58|        1|\n",
      "|   S18_4933|1957 Ford Thunder...|Classic Cars|        1:18| Studio M Art Models|This 1:18 scale p...|           3209|34.21000000000000...|71.27000000000000...|Attention car ent...|                   10|2030-12-31 15:04:58|2031-12-31 15:04:58|        1|\n",
      "+-----------+--------------------+------------+------------+--------------------+--------------------+---------------+--------------------+--------------------+--------------------+---------------------+-------------------+-------------------+---------+\n",
      "\n"
     ]
    },
    {
     "data": {
      "text/plain": [
       "pyspark.sql.dataframe.DataFrame"
      ]
     },
     "execution_count": 9,
     "metadata": {},
     "output_type": "execute_result"
    }
   ],
   "source": [
    "product_olap = spark.createDataFrame(pdf)\n",
    "\n",
    "product_olap.show()\n",
    "type(product_olap)"
   ]
  },
  {
   "cell_type": "markdown",
   "id": "8e67d48c",
   "metadata": {},
   "source": [
    "# Saving Views for products_oltp & products_olap\n"
   ]
  },
  {
   "cell_type": "code",
   "execution_count": 10,
   "id": "c4b389c6",
   "metadata": {},
   "outputs": [],
   "source": [
    "product_oltp.createOrReplaceTempView(\"product_data\")\n",
    "product_olap.createOrReplaceTempView(\"current_scd2\")"
   ]
  },
  {
   "cell_type": "markdown",
   "id": "59a6b747",
   "metadata": {},
   "source": [
    "# Starting work on Slowly Changing Dimension 2 (SCD2)"
   ]
  },
  {
   "cell_type": "markdown",
   "id": "80e7b875",
   "metadata": {},
   "source": [
    "In order to logically capture this productname change, I need to compare the current SCD2 and the source data and flag changes. I also need to be mindful of our row metadata fields to ensure that I am expiring and starting records using the appropriate dates.\n",
    "\n",
    "Luckily, I can do this in one block of SQL, What I will do is:\n",
    "\n",
    "Join the  product_data dataset to the current SCD2 dataset on customer_number and the current record\n",
    "Check for differences in the WHERE clause\n",
    "Select all the attributes from the source dataset\n",
    "Select the customer_dim_key from the current SCD2 dataset (for use in step 6)\n",
    "Set eff_start_date to today\n",
    "Set eff_end_date to the future\n",
    "Set is_current to 1"
   ]
  },
  {
   "cell_type": "code",
   "execution_count": 11,
   "id": "382f171d",
   "metadata": {
    "scrolled": true
   },
   "outputs": [
    {
     "name": "stdout",
     "output_type": "stream",
     "text": [
      "+---------------------+-----------+----------------------+------------+------------+-----------------------+-----------------------------------------------------------------------------------------------------------------------------------------------------------------+---------------+---------------------+----------------------+-------------+-----------+---------+\n",
      "|product_dimension_key|productCode|productName           |productLine |productScale|productVendor          |productDescription                                                                                                                                               |quantityInStock|buyPrice             |MSRP                  |affected_date|expiry_date|iscurrent|\n",
      "+---------------------+-----------+----------------------+------------+------------+-----------------------+-----------------------------------------------------------------------------------------------------------------------------------------------------------------+---------------+---------------------+----------------------+-------------+-----------+---------+\n",
      "|2                    |S10_4757   |1972 Alfa Romeo GTA 55|Classic Cars|1:10        |Motor City Art Classics|Features include: Turnable front wheels; steering function; detailed interior; detailed engine; opening hood; opening trunk; opening doors; and detailed chassis.|3252           |85.680000000000000000|136.000000000000000000|2023-03-30   |9999-12-31 |1        |\n",
      "+---------------------+-----------+----------------------+------------+------------+-----------------------+-----------------------------------------------------------------------------------------------------------------------------------------------------------------+---------------+---------------------+----------------------+-------------+-----------+---------+\n",
      "\n"
     ]
    }
   ],
   "source": [
    "hd_new_curr_recs = \"\"\"\n",
    "SELECT t.product_dimension_key,s.productCode, s.productName, s.productLine, s.productScale, s.productVendor, \n",
    "s.productDescription, s.quantityInStock, s.buyPrice, s.MSRP,\n",
    " \n",
    "DATE(CURRENT_TIMESTAMP) AS affected_date, \n",
    "\n",
    "\n",
    "DATE('9999-12-31') AS expiry_date,\n",
    "1 AS iscurrent\n",
    "FROM product_data s  INNER JOIN current_scd2 t\n",
    "on t.productCode=s.productCode\n",
    "AND t.iscurrent = 1\n",
    "WHERE    NVL(s.productName, '') <> NVL(t.productName, '')\n",
    " \n",
    "\"\"\"\n",
    "df_new_curr_recs = spark.sql(hd_new_curr_recs)\n",
    "df_new_curr_recs.createOrReplaceTempView(\"new_curr_recs\")\n",
    "# ############## review dataset ############## #\n",
    "df_new_curr_recs.show(10, False)\n",
    "\n",
    " "
   ]
  },
  {
   "cell_type": "code",
   "execution_count": null,
   "id": "cac61e8e",
   "metadata": {},
   "outputs": [],
   "source": []
  },
  {
   "cell_type": "markdown",
   "id": "ad2ef552",
   "metadata": {},
   "source": [
    " ## Step 6: Find previous current records to expire\n",
    "\n",
    "Now that I have the a new current record for a  product that already exists, I need to expire the previous current record. I did include the product_dim_key of the previous current record in our prior dataset, so I isolate that for future use."
   ]
  },
  {
   "cell_type": "code",
   "execution_count": 12,
   "id": "13bb30cf",
   "metadata": {},
   "outputs": [],
   "source": [
    "df_modfied_keys = df_new_curr_recs.select(\"product_dimension_key\")\n",
    "df_modfied_keys.createOrReplaceTempView(\"modfied_keys\")"
   ]
  },
  {
   "cell_type": "markdown",
   "id": "af6192b5",
   "metadata": {},
   "source": [
    "## Step 7: Expire previous current records\n",
    "\n",
    "Now I can go about expiring that prior record, while again being mindful of our row metadata fields and modifying them correctly.\n",
    "\n",
    "In this block of code, I will:\n",
    "\n",
    "* Join the the current SCD2 dataset to the modified_keys dataset on  product_dim_key\n",
    "* Ensure that I am expiring the current record by double-checking if is_current = 1\n",
    "* Select all the attributes and eff_start_date from the current SCD2 dataset\n",
    "* Set eff_end_date to yesterday\n",
    "* Set is_current to 0"
   ]
  },
  {
   "cell_type": "code",
   "execution_count": 13,
   "id": "61e9f67d",
   "metadata": {},
   "outputs": [
    {
     "name": "stdout",
     "output_type": "stream",
     "text": [
      "+---------------------+-----------+-------------------+------------+------------+-----------------------+-----------------------------------------------------------------------------------------------------------------------------------------------------------------+---------------+---------------------+----------------------+-------------------+-----------+---------+\n",
      "|product_dimension_key|productCode|productName        |productLine |productScale|productVendor          |productDescription                                                                                                                                               |quantityInStock|buyPrice             |MSRP                  |affected_date      |expiry_date|iscurrent|\n",
      "+---------------------+-----------+-------------------+------------+------------+-----------------------+-----------------------------------------------------------------------------------------------------------------------------------------------------------------+---------------+---------------------+----------------------+-------------------+-----------+---------+\n",
      "|2                    |S10_4757   |1972 Alfa Romeo GTA|Classic Cars|1:10        |Motor City Art Classics|Features include: Turnable front wheels; steering function; detailed interior; detailed engine; opening hood; opening trunk; opening doors; and detailed chassis.|3252           |85.680000000000000000|136.000000000000000000|2030-12-31 15:04:58|2023-03-29 |0        |\n",
      "+---------------------+-----------+-------------------+------------+------------+-----------------------+-----------------------------------------------------------------------------------------------------------------------------------------------------------------+---------------+---------------------+----------------------+-------------------+-----------+---------+\n",
      "\n"
     ]
    }
   ],
   "source": [
    "hd_new_hist_recs = \"\"\"\n",
    "SELECT t.product_dimension_key,\n",
    "t.productCode, t.productName, t.productLine, t.productScale, t.productVendor, t.productDescription, t.quantityInStock,\n",
    "t.buyPrice,t.MSRP , t.affected_date, DATE_SUB( DATE(CURRENT_TIMESTAMP), 1) AS expiry_date, 0 AS iscurrent\n",
    "FROM  current_scd2 t INNER JOIN modfied_keys k ON k.product_dimension_key = t.product_dimension_key\n",
    "WHERE    t.iscurrent = 1\n",
    "\"\"\"\n",
    "df_new_hist_recs = spark.sql(hd_new_hist_recs)\n",
    "df_new_hist_recs.createOrReplaceTempView(\"new_hist_recs\")\n",
    "# ############## review dataset ############## #\n",
    "df_new_hist_recs.show(10, False)\n",
    "\n",
    " "
   ]
  },
  {
   "cell_type": "code",
   "execution_count": null,
   "id": "60e624c4",
   "metadata": {},
   "outputs": [],
   "source": []
  },
  {
   "cell_type": "markdown",
   "id": "88dc50d2",
   "metadata": {},
   "source": [
    "## Step 8: Isolate unaffected records\n",
    "\n",
    "Most of the Clients had no changes and they need to remain in the target dataset, so the next step is to place those in their own dataset.\n",
    "\n",
    "This logic will:\n",
    "\n",
    "* Left join the modified_keys dataset to the current SC2 dataset on product_dim_key\n",
    "* Look at records that are not in the modified_keys dataset\n",
    "* Keep all the attributes and row metadata the same"
   ]
  },
  {
   "cell_type": "code",
   "execution_count": 14,
   "id": "ddcc74c6",
   "metadata": {},
   "outputs": [
    {
     "name": "stdout",
     "output_type": "stream",
     "text": [
      "+---------------------+-----------+-------------------------+------------+------------+-------------------------+--------------------------------------------------------------------------------------------------------------------------------------------------------------------------------------------+---------------+----------------------+----------------------+-------------------+-------------------+---------+\n",
      "|product_dimension_key|productCode|productName              |productLine |productScale|productVendor            |productDescription                                                                                                                                                                          |quantityInStock|buyPrice              |MSRP                  |affected_date      |expiry_date        |iscurrent|\n",
      "+---------------------+-----------+-------------------------+------------+------------+-------------------------+--------------------------------------------------------------------------------------------------------------------------------------------------------------------------------------------+---------------+----------------------+----------------------+-------------------+-------------------+---------+\n",
      "|7                    |S12_3380   |1968 Dodge Charger       |Classic Cars|1:12        |Welly Diecast Productions|1:12 scale model of a 1968 Dodge Charger. Hood, doors and trunk all open to reveal highly detailed interior features. Steering wheel actually turns the front wheels. Color black           |9123           |75.160000000000000000 |117.440000000000000000|2030-12-31 15:04:58|2031-12-31 15:04:58|1        |\n",
      "|6                    |S12_3148   |1969 Corvair Monza       |Classic Cars|1:18        |Welly Diecast Productions|1:18 scale die-cast about 10\" long doors open, hood opens, trunk opens and wheels roll                                                                                                      |6906           |89.140000000000000000 |151.080000000000000000|2030-12-31 15:04:58|2031-12-31 15:04:58|1        |\n",
      "|9                    |S18_4721   |1957 Corvette Convertible|Classic Cars|1:18        |Classic Metal Creations  |1957 die cast Corvette Convertible in Roman Red with white sides and whitewall tires. 1:18 scale quality die-cast with detailed engine and underbvody. Now you can own The Classic Corvette.|1249           |69.930000000000000000 |148.800000000000000000|2030-12-31 15:04:58|2031-12-31 15:04:58|1        |\n",
      "|5                    |S12_1108   |2001 Ferrari Enzo        |Classic Cars|1:12        |Second Gear Diecast      |Turnable front wheels; steering function; detailed interior; detailed engine; opening hood; opening trunk; opening doors; and detailed chassis.                                             |3619           |95.590000000000000000 |207.800000000000000000|2030-12-31 15:04:58|2031-12-31 15:04:58|1        |\n",
      "|1                    |S10_1949   |1952 Alpine Renault 1300 |Classic Cars|1:10        |Classic Metal Creations  |Turnable front wheels; steering function; detailed interior; detailed engine; opening hood; opening trunk; opening doors; and detailed chassis.                                             |7305           |98.580000000000000000 |214.300000000000000000|2030-12-31 15:04:58|2031-12-31 15:04:58|1        |\n",
      "|10                   |S18_4933   |1957 Ford Thunderbird    |Classic Cars|1:18        |Studio M Art Models      |This 1:18 scale precision die-cast replica, with its optional porthole hardtop and factory baked-enamel Thunderbird Bronze finish, is a 100% accurate rendition of this American classic.   |3209           |34.210000000000000000 |71.270000000000000000 |2030-12-31 15:04:58|2031-12-31 15:04:58|1        |\n",
      "|3                    |S10_4962   |1962 LanciaA Delta 16V   |Classic Cars|1:10        |Second Gear Diecast      |Features include: Turnable front wheels; steering function; detailed interior; detailed engine; opening hood; opening trunk; opening doors; and detailed chassis.                           |6791           |103.420000000000000000|147.740000000000000000|2030-12-31 15:04:58|2031-12-31 15:04:58|1        |\n",
      "|8                    |S18_4027   |1970 Triumph Spitfire    |Classic Cars|1:18        |Min Lin Diecast          |Features include opening and closing doors. Color: White.                                                                                                                                   |5545           |91.920000000000000000 |143.620000000000000000|2030-12-31 15:04:58|2031-12-31 15:04:58|1        |\n",
      "|4                    |S12_1099   |1968 Ford Mustang        |Classic Cars|1:12        |Autoart Studio Design    |Hood, doors and trunk all open to reveal highly detailed interior features. Steering wheel actually turns the front wheels. Color dark green.                                               |68             |95.340000000000000000 |194.570000000000000000|2030-12-31 15:04:58|2031-12-31 15:04:58|1        |\n",
      "+---------------------+-----------+-------------------------+------------+------------+-------------------------+--------------------------------------------------------------------------------------------------------------------------------------------------------------------------------------------+---------------+----------------------+----------------------+-------------------+-------------------+---------+\n",
      "\n"
     ]
    }
   ],
   "source": [
    "hd_unaffected_recs = \"\"\"\n",
    "\n",
    "SELECT s.product_dimension_key,s.productCode, s.productName, s.productLine, s.productScale, s.productVendor,\n",
    "s.productDescription, s.quantityInStock, s.buyPrice, s.MSRP,  s.affected_date, s.expiry_date, \n",
    "s.iscurrent\n",
    "FROM current_scd2 s LEFT OUTER JOIN modfied_keys k \n",
    "ON k.product_dimension_key = s.product_dimension_key\n",
    "WHERE    k.product_dimension_key IS NULL\n",
    "\"\"\"\n",
    "\n",
    "df_unaffected_recs = spark.sql(hd_unaffected_recs)\n",
    "df_unaffected_recs.createOrReplaceTempView(\"unaffected_recs\")\n",
    "# ############## review dataset ############## #\n",
    "df_unaffected_recs.show(10, False)\n",
    "\n",
    " "
   ]
  },
  {
   "cell_type": "code",
   "execution_count": null,
   "id": "119aa794",
   "metadata": {},
   "outputs": [],
   "source": []
  },
  {
   "cell_type": "markdown",
   "id": "bfd955bd",
   "metadata": {},
   "source": [
    "## Step 9: Create records for new product\n",
    "\n",
    "A new customer and therefore does not yet exist in our SCD2.\n",
    "\n",
    "The following logic:\n",
    "\n",
    "* Left joins the current SCD2 dataset to the product_data dataset on  productCode\n",
    "* Look at records that are not in the current SCD2 dataset\n",
    "* Uses all the attributes from the source\n",
    "* Sets eff_start_date to today\n",
    "* Sets eff_end_date to the future\n",
    "* Sets is_current to 1"
   ]
  },
  {
   "cell_type": "code",
   "execution_count": 15,
   "id": "9cf43be4",
   "metadata": {},
   "outputs": [
    {
     "name": "stdout",
     "output_type": "stream",
     "text": [
      "+-----------+-------------------------------------+----------------+------------+-------------------------+-----------------------------------------------------------------------------------------------------------------------------------------------------------------------------------------------------------------------------------------------------------------------------------------------------------------------------------------------------------------------------------------------------------------------------------------------------------------------------------------------------------------+---------------+---------------------+----------------------+-------------+-----------+---------+\n",
      "|productCode|productName                          |productLine     |productScale|productVendor            |productDescription                                                                                                                                                                                                                                                                                                                                                                                                                                                                                               |quantityInStock|buyPrice             |MSRP                  |affected_date|expiry_date|iscurrent|\n",
      "+-----------+-------------------------------------+----------------+------------+-------------------------+-----------------------------------------------------------------------------------------------------------------------------------------------------------------------------------------------------------------------------------------------------------------------------------------------------------------------------------------------------------------------------------------------------------------------------------------------------------------------------------------------------------------+---------------+---------------------+----------------------+-------------+-----------+---------+\n",
      "|S12_1666   |1958 Setra Bus                       |Trucks and Buses|1:12        |Welly Diecast Productions|Model features 30 windows, skylights & glare resistant glass, working steering system, original logos                                                                                                                                                                                                                                                                                                                                                                                                            |1579           |77.900000000000000000|136.670000000000000000|2023-03-30   |9999-12-31 |1        |\n",
      "|S10_4698   |2003 Harley-Davidson Eagle Drag Bike |Motorcycles     |1:10        |Red Start Diecast        |Model features, official Harley Davidson logos and insignias, detachable rear wheelie bar, heavy diecast metal with resin parts, authentic multi-color tampo-printed graphics, separate engine drive belts, free-turning front fork, rotating tires and rear racing slick, certificate of authenticity, detailed engine, display stand\\r\\n, precision diecast replica, baked enamel finish, 1:10 scale model, removable fender, seat and tank cover piece for displaying the superior detail of the v-twin engine|5582           |91.020000000000000000|193.660000000000000000|2023-03-30   |9999-12-31 |1        |\n",
      "|S10_1678   |1969 Harley Davidson Ultimate Chopper|Motorcycles     |1:10        |Min Lin Diecast          |This replica features working kickstand, front suspension, gear-shift lever, footbrake lever, drive chain, wheels and steering. All parts are particularly delicate due to their precise scale and require special care and attention.                                                                                                                                                                                                                                                                           |7933           |48.810000000000000000|95.700000000000000000 |2023-03-30   |9999-12-31 |1        |\n",
      "|S10_2016   |1996 Moto Guzzi 1100i                |Motorcycles     |1:10        |Highway 66 Mini Classics |Official Moto Guzzi logos and insignias, saddle bags located on side of motorcycle, detailed engine, working steering, working suspension, two leather seats, luggage rack, dual exhaust pipes, small saddle bag located on handle bars, two-tone paint with chrome accents, superior die-cast detail , rotating wheels , working kick stand, diecast metal with plastic parts and baked enamel finish.                                                                                                          |6625           |68.990000000000000000|118.940000000000000000|2023-03-30   |9999-12-31 |1        |\n",
      "|S12_2823   |2002 Suzuki XREO                     |Motorcycles     |1:12        |Unimax Art Galleries     |Official logos and insignias, saddle bags located on side of motorcycle, detailed engine, working steering, working suspension, two leather seats, luggage rack, dual exhaust pipes, small saddle bag located on handle bars, two-tone paint with chrome accents, superior die-cast detail , rotating wheels , working kick stand, diecast metal with plastic parts and baked enamel finish.                                                                                                                     |9997           |66.270000000000000000|150.620000000000000000|2023-03-30   |9999-12-31 |1        |\n",
      "+-----------+-------------------------------------+----------------+------------+-------------------------+-----------------------------------------------------------------------------------------------------------------------------------------------------------------------------------------------------------------------------------------------------------------------------------------------------------------------------------------------------------------------------------------------------------------------------------------------------------------------------------------------------------------+---------------+---------------------+----------------------+-------------+-----------+---------+\n",
      "\n"
     ]
    }
   ],
   "source": [
    "hd_new_prod = \"\"\"\n",
    "SELECT s.productCode, s.productName, s.productLine, s.productScale, s.productVendor, \n",
    "s.productDescription, s.quantityInStock, s.buyPrice, s.MSRP, DATE(CURRENT_TIMESTAMP) AS affected_date,\n",
    "DATE('9999-12-31') AS expiry_date,1 AS iscurrent \n",
    "FROM product_data s LEFT OUTER JOIN current_scd2 t \n",
    "ON t.productCode = s.productCode\n",
    " WHERE    t.productCode  IS NULL\n",
    "\n",
    "\"\"\"\n",
    "df_new_prod = spark.sql(hd_new_prod)\n",
    "df_new_prod.createOrReplaceTempView(\"new_prod\")\n",
    "# ############## review dataset ############## #\n",
    "df_new_prod.show(10, False)\n",
    "\n",
    " "
   ]
  },
  {
   "cell_type": "code",
   "execution_count": 16,
   "id": "36e7bb99",
   "metadata": {},
   "outputs": [
    {
     "data": {
      "text/plain": [
       "[('product_dimension_key', 'bigint'),\n",
       " ('productCode', 'string'),\n",
       " ('productName', 'string'),\n",
       " ('productLine', 'string'),\n",
       " ('productScale', 'string'),\n",
       " ('productVendor', 'string'),\n",
       " ('productDescription', 'string'),\n",
       " ('quantityInStock', 'bigint'),\n",
       " ('buyPrice', 'decimal(38,18)'),\n",
       " ('MSRP', 'decimal(38,18)'),\n",
       " ('affected_date', 'date'),\n",
       " ('expiry_date', 'date'),\n",
       " ('iscurrent', 'int')]"
      ]
     },
     "execution_count": 16,
     "metadata": {},
     "output_type": "execute_result"
    }
   ],
   "source": [
    "df_new_curr_recs.dtypes\n"
   ]
  },
  {
   "cell_type": "code",
   "execution_count": 17,
   "id": "cfe32663",
   "metadata": {},
   "outputs": [
    {
     "data": {
      "text/plain": [
       "[('product_dimension_key', 'bigint'),\n",
       " ('productCode', 'string'),\n",
       " ('productName', 'string'),\n",
       " ('productLine', 'string'),\n",
       " ('productScale', 'string'),\n",
       " ('productVendor', 'string'),\n",
       " ('productDescription', 'string'),\n",
       " ('quantityInStock', 'bigint'),\n",
       " ('buyPrice', 'decimal(38,18)'),\n",
       " ('MSRP', 'decimal(38,18)'),\n",
       " ('affected_date', 'timestamp'),\n",
       " ('expiry_date', 'date'),\n",
       " ('iscurrent', 'int')]"
      ]
     },
     "execution_count": 17,
     "metadata": {},
     "output_type": "execute_result"
    }
   ],
   "source": [
    "df_new_hist_recs.dtypes\n"
   ]
  },
  {
   "cell_type": "code",
   "execution_count": 18,
   "id": "c8754526",
   "metadata": {},
   "outputs": [
    {
     "data": {
      "text/plain": [
       "[('product_dimension_key', 'bigint'),\n",
       " ('productCode', 'string'),\n",
       " ('productName', 'string'),\n",
       " ('productLine', 'string'),\n",
       " ('productScale', 'string'),\n",
       " ('productVendor', 'string'),\n",
       " ('productDescription', 'string'),\n",
       " ('quantityInStock', 'bigint'),\n",
       " ('buyPrice', 'decimal(38,18)'),\n",
       " ('MSRP', 'decimal(38,18)'),\n",
       " ('affected_date', 'timestamp'),\n",
       " ('expiry_date', 'timestamp'),\n",
       " ('iscurrent', 'bigint')]"
      ]
     },
     "execution_count": 18,
     "metadata": {},
     "output_type": "execute_result"
    }
   ],
   "source": [
    "df_unaffected_recs.dtypes\n"
   ]
  },
  {
   "cell_type": "code",
   "execution_count": 19,
   "id": "283bd434",
   "metadata": {},
   "outputs": [
    {
     "data": {
      "text/plain": [
       "[('productCode', 'string'),\n",
       " ('productName', 'string'),\n",
       " ('productLine', 'string'),\n",
       " ('productScale', 'string'),\n",
       " ('productVendor', 'string'),\n",
       " ('productDescription', 'string'),\n",
       " ('quantityInStock', 'bigint'),\n",
       " ('buyPrice', 'decimal(38,18)'),\n",
       " ('MSRP', 'decimal(38,18)'),\n",
       " ('affected_date', 'date'),\n",
       " ('expiry_date', 'date'),\n",
       " ('iscurrent', 'int')]"
      ]
     },
     "execution_count": 19,
     "metadata": {},
     "output_type": "execute_result"
    }
   ],
   "source": [
    "df_new_prod.dtypes"
   ]
  },
  {
   "cell_type": "markdown",
   "id": "30ec670a",
   "metadata": {},
   "source": [
    "## Step 10: Combine the datasets for new SCD2\n",
    "\n",
    "I’ve created the four datasets needed to create the new iteration of our SCD2:\n",
    "\n",
    "* Dataset of new current records for existing customers (“new_curr_recs”)\n",
    "* Dataset of expiring previous current records for existing customers (“new_hist_recs”)\n",
    "* Dataset of records which aren’t being modified (“unaffected_recs”)\n",
    "* Dataset of new, previously unseen, customers (“new_cust”)\n",
    "\n",
    "All that remains is to merge them together for the final product. In this last bit of code, I will:\n",
    "\n",
    "* Find the max customer_dim_key value\n",
    "* Union the two datasets which do not have a customer_dim_key: new_cust and new_curr_recs\n",
    "* To create a new customer_dim_key, use the ROW_NUMBER() function and add the max customer_dim_key value (to preserve consecutiveness and uniqueness)\n",
    "* name above dataset as df_new_scd2_a\n",
    "* Union the prior unioned dataset to unaffected_recs and new_hist_recs"
   ]
  },
  {
   "cell_type": "code",
   "execution_count": 20,
   "id": "51a2e280",
   "metadata": {},
   "outputs": [
    {
     "name": "stdout",
     "output_type": "stream",
     "text": [
      "+---------------------+-----------+-------------------------------------+----------------+------------+-------------------------+-----------------------------------------------------------------------------------------------------------------------------------------------------------------------------------------------------------------------------------------------------------------------------------------------------------------------------------------------------------------------------------------------------------------------------------------------------------------------------------------------------------------+---------------+---------------------+----------------------+-------------+-----------+---------+\n",
      "|product_dimension_key|productCode|productName                          |productLine     |productScale|productVendor            |productDescription                                                                                                                                                                                                                                                                                                                                                                                                                                                                                               |quantityInStock|buyPrice             |MSRP                  |affected_date|expiry_date|iscurrent|\n",
      "+---------------------+-----------+-------------------------------------+----------------+------------+-------------------------+-----------------------------------------------------------------------------------------------------------------------------------------------------------------------------------------------------------------------------------------------------------------------------------------------------------------------------------------------------------------------------------------------------------------------------------------------------------------------------------------------------------------+---------------+---------------------+----------------------+-------------+-----------+---------+\n",
      "|11                   |S12_1666   |1958 Setra Bus                       |Trucks and Buses|1:12        |Welly Diecast Productions|Model features 30 windows, skylights & glare resistant glass, working steering system, original logos                                                                                                                                                                                                                                                                                                                                                                                                            |1579           |77.900000000000000000|136.670000000000000000|2023-03-30   |9999-12-31 |1        |\n",
      "|12                   |S10_4698   |2003 Harley-Davidson Eagle Drag Bike |Motorcycles     |1:10        |Red Start Diecast        |Model features, official Harley Davidson logos and insignias, detachable rear wheelie bar, heavy diecast metal with resin parts, authentic multi-color tampo-printed graphics, separate engine drive belts, free-turning front fork, rotating tires and rear racing slick, certificate of authenticity, detailed engine, display stand\\r\\n, precision diecast replica, baked enamel finish, 1:10 scale model, removable fender, seat and tank cover piece for displaying the superior detail of the v-twin engine|5582           |91.020000000000000000|193.660000000000000000|2023-03-30   |9999-12-31 |1        |\n",
      "|13                   |S10_1678   |1969 Harley Davidson Ultimate Chopper|Motorcycles     |1:10        |Min Lin Diecast          |This replica features working kickstand, front suspension, gear-shift lever, footbrake lever, drive chain, wheels and steering. All parts are particularly delicate due to their precise scale and require special care and attention.                                                                                                                                                                                                                                                                           |7933           |48.810000000000000000|95.700000000000000000 |2023-03-30   |9999-12-31 |1        |\n",
      "|14                   |S10_2016   |1996 Moto Guzzi 1100i                |Motorcycles     |1:10        |Highway 66 Mini Classics |Official Moto Guzzi logos and insignias, saddle bags located on side of motorcycle, detailed engine, working steering, working suspension, two leather seats, luggage rack, dual exhaust pipes, small saddle bag located on handle bars, two-tone paint with chrome accents, superior die-cast detail , rotating wheels , working kick stand, diecast metal with plastic parts and baked enamel finish.                                                                                                          |6625           |68.990000000000000000|118.940000000000000000|2023-03-30   |9999-12-31 |1        |\n",
      "|15                   |S12_2823   |2002 Suzuki XREO                     |Motorcycles     |1:12        |Unimax Art Galleries     |Official logos and insignias, saddle bags located on side of motorcycle, detailed engine, working steering, working suspension, two leather seats, luggage rack, dual exhaust pipes, small saddle bag located on handle bars, two-tone paint with chrome accents, superior die-cast detail , rotating wheels , working kick stand, diecast metal with plastic parts and baked enamel finish.                                                                                                                     |9997           |66.270000000000000000|150.620000000000000000|2023-03-30   |9999-12-31 |1        |\n",
      "|16                   |S10_4757   |1972 Alfa Romeo GTA 55               |Classic Cars    |1:10        |Motor City Art Classics  |Features include: Turnable front wheels; steering function; detailed interior; detailed engine; opening hood; opening trunk; opening doors; and detailed chassis.                                                                                                                                                                                                                                                                                                                                                |3252           |85.680000000000000000|136.000000000000000000|2023-03-30   |9999-12-31 |1        |\n",
      "+---------------------+-----------+-------------------------------------+----------------+------------+-------------------------+-----------------------------------------------------------------------------------------------------------------------------------------------------------------------------------------------------------------------------------------------------------------------------------------------------------------------------------------------------------------------------------------------------------------------------------------------------------------------------------------------------------------+---------------+---------------------+----------------------+-------------+-----------+---------+\n",
      "\n"
     ]
    }
   ],
   "source": [
    "v_max_key = spark.sql(\n",
    "    \"SELECT STRING(MAX(product_dimension_key)) FROM current_scd2\"\n",
    ").collect()[0][0]\n",
    "\n",
    "hd_new_scd2_a = \"\"\"\n",
    "WITH a_cte \n",
    " AS  (\n",
    "   SELECT s.productCode, s.productName, s.productLine, s.productScale, s.productVendor, \n",
    "s.productDescription, s.quantityInStock, s.buyPrice, s.MSRP, s.affected_date,\n",
    "s.expiry_date,s.iscurrent \n",
    "from new_prod s\n",
    "UNION ALL\n",
    "SELECT  y.productCode, y.productName, y.productLine, y.productScale, y.productVendor, \n",
    "y.productDescription, y.quantityInStock, y.buyPrice, y.MSRP,\n",
    " \n",
    "y.affected_date, y.expiry_date, y.iscurrent\n",
    " FROM new_curr_recs y\n",
    " )\n",
    "SELECT  ROW_NUMBER() OVER(ORDER BY a.affected_date) + BIGINT('{v_max_key}') AS product_dimension_key,\n",
    "a.productCode, a.productName, a.productLine, a.productScale, a.productVendor, \n",
    "a.productDescription, a.quantityInStock, a.buyPrice, a.MSRP, a.affected_date,\n",
    "a.expiry_date,a.iscurrent \n",
    "FROM    a_cte a\n",
    " \n",
    " \n",
    "\"\"\"\n",
    "df_new_scd2_a = spark.sql(hd_new_scd2_a.replace(\"{v_max_key}\", v_max_key))\n",
    "# ############## review dataset ############## #\n",
    "df_new_scd2_a.show(10, False)\n",
    "df_new_scd2_a.createOrReplaceTempView(\"df_new_scd2_a\")"
   ]
  },
  {
   "cell_type": "code",
   "execution_count": 21,
   "id": "88abdc16",
   "metadata": {},
   "outputs": [
    {
     "data": {
      "text/plain": [
       "DataFrame[product_dimension_key: bigint, productCode: string, productName: string, productLine: string, productScale: string, productVendor: string, productDescription: string, quantityInStock: bigint, buyPrice: decimal(38,18), MSRP: decimal(38,18), affected_date: date, expiry_date: date, iscurrent: int]"
      ]
     },
     "execution_count": 21,
     "metadata": {},
     "output_type": "execute_result"
    }
   ],
   "source": [
    "df_new_scd2_a"
   ]
  },
  {
   "cell_type": "code",
   "execution_count": null,
   "id": "51a260b8",
   "metadata": {},
   "outputs": [],
   "source": [
    " "
   ]
  },
  {
   "cell_type": "code",
   "execution_count": 23,
   "id": "b7bc1d73",
   "metadata": {},
   "outputs": [
    {
     "name": "stdout",
     "output_type": "stream",
     "text": [
      "+---------------------+-----------+-------------------------------------+----------------+------------+-------------------------+-----------------------------------------------------------------------------------------------------------------------------------------------------------------------------------------------------------------------------------------------------------------------------------------------------------------------------------------------------------------------------------------------------------------------------------------------------------------------------------------------------------------+---------------+----------------------+----------------------+-------------------+-------------------+---------+\n",
      "|product_dimension_key|productCode|productName                          |productLine     |productScale|productVendor            |productDescription                                                                                                                                                                                                                                                                                                                                                                                                                                                                                               |quantityInStock|buyPrice              |MSRP                  |affected_date      |expiry_date        |iscurrent|\n",
      "+---------------------+-----------+-------------------------------------+----------------+------------+-------------------------+-----------------------------------------------------------------------------------------------------------------------------------------------------------------------------------------------------------------------------------------------------------------------------------------------------------------------------------------------------------------------------------------------------------------------------------------------------------------------------------------------------------------+---------------+----------------------+----------------------+-------------------+-------------------+---------+\n",
      "|11                   |S12_1666   |1958 Setra Bus                       |Trucks and Buses|1:12        |Welly Diecast Productions|Model features 30 windows, skylights & glare resistant glass, working steering system, original logos                                                                                                                                                                                                                                                                                                                                                                                                            |1579           |77.900000000000000000 |136.670000000000000000|2023-03-30 00:00:00|9999-12-31 00:00:00|1        |\n",
      "|12                   |S10_4698   |2003 Harley-Davidson Eagle Drag Bike |Motorcycles     |1:10        |Red Start Diecast        |Model features, official Harley Davidson logos and insignias, detachable rear wheelie bar, heavy diecast metal with resin parts, authentic multi-color tampo-printed graphics, separate engine drive belts, free-turning front fork, rotating tires and rear racing slick, certificate of authenticity, detailed engine, display stand\\r\\n, precision diecast replica, baked enamel finish, 1:10 scale model, removable fender, seat and tank cover piece for displaying the superior detail of the v-twin engine|5582           |91.020000000000000000 |193.660000000000000000|2023-03-30 00:00:00|9999-12-31 00:00:00|1        |\n",
      "|13                   |S10_1678   |1969 Harley Davidson Ultimate Chopper|Motorcycles     |1:10        |Min Lin Diecast          |This replica features working kickstand, front suspension, gear-shift lever, footbrake lever, drive chain, wheels and steering. All parts are particularly delicate due to their precise scale and require special care and attention.                                                                                                                                                                                                                                                                           |7933           |48.810000000000000000 |95.700000000000000000 |2023-03-30 00:00:00|9999-12-31 00:00:00|1        |\n",
      "|14                   |S10_2016   |1996 Moto Guzzi 1100i                |Motorcycles     |1:10        |Highway 66 Mini Classics |Official Moto Guzzi logos and insignias, saddle bags located on side of motorcycle, detailed engine, working steering, working suspension, two leather seats, luggage rack, dual exhaust pipes, small saddle bag located on handle bars, two-tone paint with chrome accents, superior die-cast detail , rotating wheels , working kick stand, diecast metal with plastic parts and baked enamel finish.                                                                                                          |6625           |68.990000000000000000 |118.940000000000000000|2023-03-30 00:00:00|9999-12-31 00:00:00|1        |\n",
      "|15                   |S12_2823   |2002 Suzuki XREO                     |Motorcycles     |1:12        |Unimax Art Galleries     |Official logos and insignias, saddle bags located on side of motorcycle, detailed engine, working steering, working suspension, two leather seats, luggage rack, dual exhaust pipes, small saddle bag located on handle bars, two-tone paint with chrome accents, superior die-cast detail , rotating wheels , working kick stand, diecast metal with plastic parts and baked enamel finish.                                                                                                                     |9997           |66.270000000000000000 |150.620000000000000000|2023-03-30 00:00:00|9999-12-31 00:00:00|1        |\n",
      "|16                   |S10_4757   |1972 Alfa Romeo GTA 55               |Classic Cars    |1:10        |Motor City Art Classics  |Features include: Turnable front wheels; steering function; detailed interior; detailed engine; opening hood; opening trunk; opening doors; and detailed chassis.                                                                                                                                                                                                                                                                                                                                                |3252           |85.680000000000000000 |136.000000000000000000|2023-03-30 00:00:00|9999-12-31 00:00:00|1        |\n",
      "|7                    |S12_3380   |1968 Dodge Charger                   |Classic Cars    |1:12        |Welly Diecast Productions|1:12 scale model of a 1968 Dodge Charger. Hood, doors and trunk all open to reveal highly detailed interior features. Steering wheel actually turns the front wheels. Color black                                                                                                                                                                                                                                                                                                                                |9123           |75.160000000000000000 |117.440000000000000000|2030-12-31 15:04:58|2031-12-31 15:04:58|1        |\n",
      "|6                    |S12_3148   |1969 Corvair Monza                   |Classic Cars    |1:18        |Welly Diecast Productions|1:18 scale die-cast about 10\" long doors open, hood opens, trunk opens and wheels roll                                                                                                                                                                                                                                                                                                                                                                                                                           |6906           |89.140000000000000000 |151.080000000000000000|2030-12-31 15:04:58|2031-12-31 15:04:58|1        |\n",
      "|9                    |S18_4721   |1957 Corvette Convertible            |Classic Cars    |1:18        |Classic Metal Creations  |1957 die cast Corvette Convertible in Roman Red with white sides and whitewall tires. 1:18 scale quality die-cast with detailed engine and underbvody. Now you can own The Classic Corvette.                                                                                                                                                                                                                                                                                                                     |1249           |69.930000000000000000 |148.800000000000000000|2030-12-31 15:04:58|2031-12-31 15:04:58|1        |\n",
      "|5                    |S12_1108   |2001 Ferrari Enzo                    |Classic Cars    |1:12        |Second Gear Diecast      |Turnable front wheels; steering function; detailed interior; detailed engine; opening hood; opening trunk; opening doors; and detailed chassis.                                                                                                                                                                                                                                                                                                                                                                  |3619           |95.590000000000000000 |207.800000000000000000|2030-12-31 15:04:58|2031-12-31 15:04:58|1        |\n",
      "|1                    |S10_1949   |1952 Alpine Renault 1300             |Classic Cars    |1:10        |Classic Metal Creations  |Turnable front wheels; steering function; detailed interior; detailed engine; opening hood; opening trunk; opening doors; and detailed chassis.                                                                                                                                                                                                                                                                                                                                                                  |7305           |98.580000000000000000 |214.300000000000000000|2030-12-31 15:04:58|2031-12-31 15:04:58|1        |\n",
      "|10                   |S18_4933   |1957 Ford Thunderbird                |Classic Cars    |1:18        |Studio M Art Models      |This 1:18 scale precision die-cast replica, with its optional porthole hardtop and factory baked-enamel Thunderbird Bronze finish, is a 100% accurate rendition of this American classic.                                                                                                                                                                                                                                                                                                                        |3209           |34.210000000000000000 |71.270000000000000000 |2030-12-31 15:04:58|2031-12-31 15:04:58|1        |\n",
      "|3                    |S10_4962   |1962 LanciaA Delta 16V               |Classic Cars    |1:10        |Second Gear Diecast      |Features include: Turnable front wheels; steering function; detailed interior; detailed engine; opening hood; opening trunk; opening doors; and detailed chassis.                                                                                                                                                                                                                                                                                                                                                |6791           |103.420000000000000000|147.740000000000000000|2030-12-31 15:04:58|2031-12-31 15:04:58|1        |\n",
      "|8                    |S18_4027   |1970 Triumph Spitfire                |Classic Cars    |1:18        |Min Lin Diecast          |Features include opening and closing doors. Color: White.                                                                                                                                                                                                                                                                                                                                                                                                                                                        |5545           |91.920000000000000000 |143.620000000000000000|2030-12-31 15:04:58|2031-12-31 15:04:58|1        |\n",
      "|4                    |S12_1099   |1968 Ford Mustang                    |Classic Cars    |1:12        |Autoart Studio Design    |Hood, doors and trunk all open to reveal highly detailed interior features. Steering wheel actually turns the front wheels. Color dark green.                                                                                                                                                                                                                                                                                                                                                                    |68             |95.340000000000000000 |194.570000000000000000|2030-12-31 15:04:58|2031-12-31 15:04:58|1        |\n",
      "|2                    |S10_4757   |1972 Alfa Romeo GTA                  |Classic Cars    |1:10        |Motor City Art Classics  |Features include: Turnable front wheels; steering function; detailed interior; detailed engine; opening hood; opening trunk; opening doors; and detailed chassis.                                                                                                                                                                                                                                                                                                                                                |3252           |85.680000000000000000 |136.000000000000000000|2030-12-31 15:04:58|2023-03-29 00:00:00|0        |\n",
      "+---------------------+-----------+-------------------------------------+----------------+------------+-------------------------+-----------------------------------------------------------------------------------------------------------------------------------------------------------------------------------------------------------------------------------------------------------------------------------------------------------------------------------------------------------------------------------------------------------------------------------------------------------------------------------------------------------------+---------------+----------------------+----------------------+-------------------+-------------------+---------+\n",
      "\n"
     ]
    }
   ],
   "source": [
    "hd_new_scd2_b=\"\"\" \n",
    "SELECT product_dimension_key,productCode,productName,productLine,productScale,productVendor,productDescription                                                                                                                                                                                                                                                                                                                                                                                                       \n",
    ",quantityInStock,buyPrice,MSRP,affected_date,expiry_date,iscurrent\n",
    "FROM    df_new_scd2_a\n",
    "UNION ALL\n",
    "\n",
    "SELECT product_dimension_key,productCode,productName,productLine,productScale,productVendor,productDescription,                                                                                                                                                                                                                                                                                                                                                                                                                                                                                                                                                                                                                                                                                                                                                                                                                                                                                                                                                          \n",
    "quantityInStock,buyPrice,MSRP,affected_date,expiry_date,iscurrent\n",
    "FROM    unaffected_recs\n",
    "UNION ALL\n",
    "\n",
    "\n",
    "SELECT product_dimension_key,productCode, productName, productLine, productScale, productVendor, productDescription,\n",
    "quantityInStock,buyPrice,MSRP , affected_date,expiry_date, iscurrent\n",
    "FROM   new_hist_recs\n",
    " \n",
    "\n",
    "\"\"\"\n",
    " \n",
    " \n",
    " \n",
    "df_new_scd2_b = spark.sql(hd_new_scd2_b)\n",
    "# ############## review dataset ############## #\n",
    "df_new_scd2_b.show(50, False)\n",
    "df_new_scd2_b.createOrReplaceTempView(\"df_new_scd2_b\")"
   ]
  },
  {
   "cell_type": "code",
   "execution_count": null,
   "id": "d8dc2795",
   "metadata": {},
   "outputs": [],
   "source": []
  }
 ],
 "metadata": {
  "kernelspec": {
   "display_name": "Python 3 (ipykernel)",
   "language": "python",
   "name": "python3"
  },
  "language_info": {
   "codemirror_mode": {
    "name": "ipython",
    "version": 3
   },
   "file_extension": ".py",
   "mimetype": "text/x-python",
   "name": "python",
   "nbconvert_exporter": "python",
   "pygments_lexer": "ipython3",
   "version": "3.10.9"
  }
 },
 "nbformat": 4,
 "nbformat_minor": 5
}
